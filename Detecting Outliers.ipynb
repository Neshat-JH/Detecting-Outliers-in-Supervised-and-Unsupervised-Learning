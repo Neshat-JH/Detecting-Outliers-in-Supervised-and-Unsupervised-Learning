{
 "cells": [
  {
   "cell_type": "markdown",
   "metadata": {},
   "source": [
    "## Detecting Outliers"
   ]
  },
  {
   "cell_type": "markdown",
   "metadata": {},
   "source": [
    "### 1. Using the Standard Deviation 68-95-99.7 Rule\n",
    "Using Standard Deviation and the 68-95-99.7 rule; Basically stating that for a normal distribution 99.7% of the data falls into the third standard deviation!(any data outside of the third standard deviation is considered an outlier!)"
   ]
  },
  {
   "cell_type": "code",
   "execution_count": 1,
   "metadata": {},
   "outputs": [],
   "source": [
    "import pandas as pd\n",
    "import numpy as np\n",
    "import math\n",
    "import matplotlib.pyplot\n",
    "import seaborn as sns\n",
    "import random\n",
    "random.seed(3)"
   ]
  },
  {
   "cell_type": "code",
   "execution_count": 2,
   "metadata": {},
   "outputs": [],
   "source": [
    "#defining functions to calculate mean, variance and standard deviation from scratch\n",
    "def mean(data):\n",
    "  n = len(data)\n",
    "  mean = sum(data) / n\n",
    "  return mean\n",
    " \n",
    "def variance(data):\n",
    "  n = len(data)\n",
    "  mean = sum(data) / n\n",
    "  deviations = [(x - mean) ** 2 for x in data]\n",
    "  variance = sum(deviations) / n\n",
    "  return variance\n",
    " \n",
    "def stdev(data):\n",
    "  var = variance(data)\n",
    "  std_dev = math.sqrt(var)\n",
    "  return std_dev"
   ]
  },
  {
   "cell_type": "code",
   "execution_count": 3,
   "metadata": {},
   "outputs": [],
   "source": [
    "#defining a function to detect outliers\n",
    "def findOutliers(data):\n",
    "    outliers=[]\n",
    "    #defining the data's std, mean and the cut off threshold\n",
    "    data_mean = mean(data)\n",
    "    data_std = stdev(data)\n",
    "    cut_off = data_std * 3\n",
    "    \n",
    "    #defining the upper and lower limits\n",
    "    upper_limit = data_mean + cut_off\n",
    "    lower_limit = data_mean - cut_off\n",
    "    \n",
    "    #detecting outliers\n",
    "    for outlier in data:\n",
    "        if outlier < lower_limit or outlier > upper_limit:\n",
    "            outliers.append(outlier)\n",
    "    return (outliers)"
   ]
  },
  {
   "cell_type": "code",
   "execution_count": 4,
   "metadata": {},
   "outputs": [],
   "source": [
    "#Generating random data to test the function\n",
    "data = np.random.randn(30000)*30+30 #multiplying and adding random numbers to get real values\n",
    "\n",
    "outliers = pd.DataFrame(findOutliers(data))"
   ]
  },
  {
   "cell_type": "code",
   "execution_count": 5,
   "metadata": {},
   "outputs": [
    {
     "data": {
      "text/html": [
       "<div>\n",
       "<style scoped>\n",
       "    .dataframe tbody tr th:only-of-type {\n",
       "        vertical-align: middle;\n",
       "    }\n",
       "\n",
       "    .dataframe tbody tr th {\n",
       "        vertical-align: top;\n",
       "    }\n",
       "\n",
       "    .dataframe thead th {\n",
       "        text-align: right;\n",
       "    }\n",
       "</style>\n",
       "<table border=\"1\" class=\"dataframe\">\n",
       "  <thead>\n",
       "    <tr style=\"text-align: right;\">\n",
       "      <th></th>\n",
       "      <th>0</th>\n",
       "    </tr>\n",
       "  </thead>\n",
       "  <tbody>\n",
       "    <tr>\n",
       "      <th>0</th>\n",
       "      <td>-82.986928</td>\n",
       "    </tr>\n",
       "    <tr>\n",
       "      <th>1</th>\n",
       "      <td>142.769064</td>\n",
       "    </tr>\n",
       "    <tr>\n",
       "      <th>2</th>\n",
       "      <td>124.324469</td>\n",
       "    </tr>\n",
       "    <tr>\n",
       "      <th>3</th>\n",
       "      <td>135.430428</td>\n",
       "    </tr>\n",
       "    <tr>\n",
       "      <th>4</th>\n",
       "      <td>124.759698</td>\n",
       "    </tr>\n",
       "  </tbody>\n",
       "</table>\n",
       "</div>"
      ],
      "text/plain": [
       "            0\n",
       "0  -82.986928\n",
       "1  142.769064\n",
       "2  124.324469\n",
       "3  135.430428\n",
       "4  124.759698"
      ]
     },
     "execution_count": 5,
     "metadata": {},
     "output_type": "execute_result"
    }
   ],
   "source": [
    "#sample of outliers\n",
    "outliers.head()"
   ]
  },
  {
   "cell_type": "markdown",
   "metadata": {},
   "source": [
    "### 2. Using Boxplot and Visualization\n",
    "We can use visualization and boxplots to detect the outliers!This method can be used for the multi-dimensional datasets as well! Each boxplot consist of an Inter Quartile Range (IQR) which is basically all the data that fall into the 1st to 3rd quartile (Q3 - Q1). So we can use the IQR and define the upper and lower whiskers of the boxplot; which are (Q3 + 1.5 x IQR) and (Q1- 1.5 x IQR). Any data that's outside of the upper and lower boundaries are considered an outlier!"
   ]
  },
  {
   "cell_type": "code",
   "execution_count": 6,
   "metadata": {},
   "outputs": [
    {
     "name": "stderr",
     "output_type": "stream",
     "text": [
      "C:\\Users\\nesha\\anaconda3\\lib\\site-packages\\seaborn\\_decorators.py:36: FutureWarning: Pass the following variable as a keyword arg: x. From version 0.12, the only valid positional argument will be `data`, and passing other arguments without an explicit keyword will result in an error or misinterpretation.\n",
      "  warnings.warn(\n"
     ]
    },
    {
     "data": {
      "text/plain": [
       "<AxesSubplot:>"
      ]
     },
     "execution_count": 6,
     "metadata": {},
     "output_type": "execute_result"
    },
    {
     "data": {
      "image/png": "[encoded data removed]",
      "text/plain": [
       "<Figure size 432x288 with 1 Axes>"
      ]
     },
     "metadata": {
      "needs_background": "light"
     },
     "output_type": "display_data"
    }
   ],
   "source": [
    "#boxplot\n",
    "sns.boxplot(data)"
   ]
  },
  {
   "cell_type": "code",
   "execution_count": 7,
   "metadata": {},
   "outputs": [],
   "source": [
    "#defining a function to calculate the IQR and detect outliers\n",
    "def boxplotOutliers(data):\n",
    "    boxplot_outliers = []\n",
    "    #defining Q1, Q3 and IQR using the np.percentile \n",
    "    Q1 = np.percentile(data, 25, interpolation = 'midpoint')\n",
    "    Q3= np.percentile(data, 75, interpolation = 'midpoint')\n",
    "    IQR= Q3 - Q1\n",
    "    \n",
    "    #defining the upper and lower whiskers\n",
    "    lower_whisker = Q1 - 1.5*IQR\n",
    "    upper_whisker = Q3 - 1.5*IQR\n",
    "    \n",
    "    for outlier in data:\n",
    "        if outlier < lower_whisker or outlier > upper_whisker:\n",
    "            boxplot_outliers.append(outlier)\n",
    "    return boxplot_outliers"
   ]
  },
  {
   "cell_type": "code",
   "execution_count": 8,
   "metadata": {},
   "outputs": [
    {
     "data": {
      "text/html": [
       "<div>\n",
       "<style scoped>\n",
       "    .dataframe tbody tr th:only-of-type {\n",
       "        vertical-align: middle;\n",
       "    }\n",
       "\n",
       "    .dataframe tbody tr th {\n",
       "        vertical-align: top;\n",
       "    }\n",
       "\n",
       "    .dataframe thead th {\n",
       "        text-align: right;\n",
       "    }\n",
       "</style>\n",
       "<table border=\"1\" class=\"dataframe\">\n",
       "  <thead>\n",
       "    <tr style=\"text-align: right;\">\n",
       "      <th></th>\n",
       "      <th>0</th>\n",
       "    </tr>\n",
       "  </thead>\n",
       "  <tbody>\n",
       "    <tr>\n",
       "      <th>0</th>\n",
       "      <td>59.451044</td>\n",
       "    </tr>\n",
       "    <tr>\n",
       "      <th>1</th>\n",
       "      <td>31.189493</td>\n",
       "    </tr>\n",
       "    <tr>\n",
       "      <th>2</th>\n",
       "      <td>33.493434</td>\n",
       "    </tr>\n",
       "    <tr>\n",
       "      <th>3</th>\n",
       "      <td>69.127691</td>\n",
       "    </tr>\n",
       "    <tr>\n",
       "      <th>4</th>\n",
       "      <td>19.178368</td>\n",
       "    </tr>\n",
       "  </tbody>\n",
       "</table>\n",
       "</div>"
      ],
      "text/plain": [
       "           0\n",
       "0  59.451044\n",
       "1  31.189493\n",
       "2  33.493434\n",
       "3  69.127691\n",
       "4  19.178368"
      ]
     },
     "execution_count": 8,
     "metadata": {},
     "output_type": "execute_result"
    }
   ],
   "source": [
    "#sample of boxplot outliers\n",
    "boxplot_outlier = pd.DataFrame(boxplotOutliers(data))\n",
    "boxplot_outlier.head()"
   ]
  },
  {
   "cell_type": "markdown",
   "metadata": {},
   "source": [
    "### 3. Using DBSCAN\n",
    "DBSCAN is shorten for Density-based Spatial Clustering Applications with Noise! In a nutshell, DBSCAN is a clustering method which can be used to detect noise and anomalies in the dataset! This method can be used for both single and multi-dimensional problems.\n",
    "The challenging part of DBSCAN method is that it has hyperparameters that should be picked wisely!! (Aren't they all?!)\n",
    "Here are a quick review of some of the important DBSCAN hyperparameters and definitions:\n",
    "- min_samples (hyperparameter) which is the minimum number of core data points needed to form a cluster!\n",
    "- eps (hyperparameter) which is the maximum distant allowed between points in the same cluster! Meaning if a data-point has a distance higher than eps with any other points, it wont be consirdered as part of that cluster!\n",
    "- Border points which the name says it all! These are the data points on the border of the cluster (so still part of the cluster!)\n",
    "- Noise points which don't belong to any cluster! These are the data points we would like to detect here!! Scikit-learn library labels noisy points as (-1)."
   ]
  },
  {
   "cell_type": "code",
   "execution_count": 10,
   "metadata": {},
   "outputs": [],
   "source": [
    "from sklearn.cluster import DBSCAN \n",
    "random.seed(2)\n",
    "\n",
    "#creating two dimensional random data\n",
    "random_dimensional_data = np.random.randn(60000,2) * 20 + 20\n"
   ]
  },
  {
   "cell_type": "code",
   "execution_count": 12,
   "metadata": {},
   "outputs": [
    {
     "data": {
      "text/plain": [
       "163"
      ]
     },
     "execution_count": 12,
     "metadata": {},
     "output_type": "execute_result"
    }
   ],
   "source": [
    "dbscan = DBSCAN(min_samples = 4, eps=3)\n",
    "cluster = dbscan.fit_predict(random_dimensional_data)\n",
    "\n",
    "list(cluster).count(-1)"
   ]
  },
  {
   "cell_type": "markdown",
   "metadata": {},
   "source": [
    "Seems like there's been 163 noisy points in the random data!"
   ]
  },
  {
   "cell_type": "markdown",
   "metadata": {},
   "source": [
    "### 4. Using Isolation Forest\n",
    "Isolation Forest is an unsupervised learning algorithm. Thus, it is different from the methods mentioned above! Unlike the ones previously mentioned, there's no need for defining cores and clusters! Isolation Forest is based on an assumption that anomalies in data (the outliers) are the minority and it defines them based on their different attributes! This is a very accurate method to be used specially for high dimensional datasets!"
   ]
  },
  {
   "cell_type": "code",
   "execution_count": 14,
   "metadata": {},
   "outputs": [
    {
     "data": {
      "text/plain": [
       "array([-1, -1,  1, ...,  1, -1,  1])"
      ]
     },
     "execution_count": 14,
     "metadata": {},
     "output_type": "execute_result"
    }
   ],
   "source": [
    "from sklearn.ensemble import IsolationForest\n",
    "random.seed(3)\n",
    "\n",
    "random_dimensional_data = np.random.randn(60000,2)  * 30 + 30\n",
    "\n",
    "isolationforest = IsolationForest(max_samples=100, random_state = 3, contamination= 'auto')\n",
    "predictions = isolationforest.fit_predict(random_dimensional_data)\n",
    "predictions"
   ]
  },
  {
   "cell_type": "markdown",
   "metadata": {},
   "source": [
    "The output of this algorithm is an array consist of 1 and -1; where 1 means not an outlier, and -1 is an outlier!"
   ]
  },
  {
   "cell_type": "code",
   "execution_count": 15,
   "metadata": {},
   "outputs": [
    {
     "data": {
      "text/plain": [
       "18502"
      ]
     },
     "execution_count": 15,
     "metadata": {},
     "output_type": "execute_result"
    }
   ],
   "source": [
    "list(predictions).count(-1)"
   ]
  },
  {
   "cell_type": "markdown",
   "metadata": {},
   "source": [
    "#### Hope you enjoyed this notebook!\n",
    "### Cheers!"
   ]
  },
  {
   "cell_type": "code",
   "execution_count": null,
   "metadata": {},
   "outputs": [],
   "source": []
  }
 ],
 "metadata": {
  "kernelspec": {
   "display_name": "Python 3",
   "language": "python",
   "name": "python3"
  },
  "language_info": {
   "codemirror_mode": {
    "name": "ipython",
    "version": 3
   },
   "file_extension": ".py",
   "mimetype": "text/x-python",
   "name": "python",
   "nbconvert_exporter": "python",
   "pygments_lexer": "ipython3",
   "version": "3.8.5"
  }
 },
 "nbformat": 4,
 "nbformat_minor": 4
}
